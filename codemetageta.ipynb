{
 "cells": [
  {
   "cell_type": "code",
   "execution_count": 38,
   "metadata": {
    "collapsed": true
   },
   "outputs": [],
   "source": [
    "import json"
   ]
  },
  {
   "cell_type": "code",
   "execution_count": 39,
   "metadata": {},
   "outputs": [],
   "source": [
    "from github import Github, NamedUser, PaginatedList\n",
    "\n",
    "g = Github(login_or_token='a921a68a6c61508201d1a4e486f0fb49135f2e90')\n",
    "\n"
   ]
  },
  {
   "cell_type": "code",
   "execution_count": 44,
   "metadata": {},
   "outputs": [],
   "source": [
    "codemeta = {}\n",
    "\n",
    "codemeta['@context'] = \"http://schema.org\"\n",
    "codemeta['@type'] = \"SoftwareSourceCode\""
   ]
  },
  {
   "cell_type": "code",
   "execution_count": 46,
   "metadata": {},
   "outputs": [
    {
     "name": "stdout",
     "output_type": "stream",
     "text": [
      "metamatter\n"
     ]
    }
   ],
   "source": [
    "repo = g.get_repo(\"arfon/metamatter\")\n",
    "\n",
    "print(repo.name)\n",
    "codemeta['name'] = repo.name"
   ]
  },
  {
   "cell_type": "code",
   "execution_count": 47,
   "metadata": {},
   "outputs": [
    {
     "name": "stdout",
     "output_type": "stream",
     "text": [
      "Minimal metadata extractor for the GitHub API\n"
     ]
    }
   ],
   "source": [
    "print(repo.description)\n",
    "codemeta['description'] = repo.description"
   ]
  },
  {
   "cell_type": "code",
   "execution_count": 49,
   "metadata": {
    "collapsed": true
   },
   "outputs": [],
   "source": [
    "codemeta['codeRepository'] = repo.html_url\n",
    "#codemeta['datePublished'] = repo.created_at.strftime(\"%Y-%m-%d\")\n",
    "#codemeta['dateModified'] = repo.created_at.strftime(\"%Y-%m-%d\")\n",
    "codemeta['dateCreated'] = repo.created_at.strftime(\"%Y-%m-%d\")"
   ]
  },
  {
   "cell_type": "code",
   "execution_count": 60,
   "metadata": {},
   "outputs": [
    {
     "name": "stdout",
     "output_type": "stream",
     "text": [
      "Arfon Smith\n",
      "[{'familyName': 'Arfon Smith'}]\n"
     ]
    }
   ],
   "source": [
    "authors = []\n",
    "for contributor in repo.get_contributors():\n",
    "    author = {}\n",
    "    print(contributor.name)\n",
    "    author['familyName'] = contributor.name\n",
    "    authors.append(author)\n",
    "\n",
    "print(authors)\n",
    "codemeta['author'] = authors"
   ]
  },
  {
   "cell_type": "code",
   "execution_count": 61,
   "metadata": {},
   "outputs": [
    {
     "name": "stdout",
     "output_type": "stream",
     "text": [
      "{\n",
      "    \"@context\": \"http://schema.org\",\n",
      "    \"@type\": \"SoftwareSourceCode\",\n",
      "    \"author\": [\n",
      "        {\n",
      "            \"familyName\": \"Arfon Smith\"\n",
      "        }\n",
      "    ],\n",
      "    \"codeRepository\": \"https://github.com/arfon/metamatter\",\n",
      "    \"dateCreated\": \"2015-07-06\",\n",
      "    \"description\": \"Minimal metadata extractor for the GitHub API\",\n",
      "    \"name\": \"metamatter\"\n",
      "}\n"
     ]
    }
   ],
   "source": [
    "print(json.dumps(codemeta, sort_keys=True, indent=4))"
   ]
  },
  {
   "cell_type": "code",
   "execution_count": null,
   "metadata": {
    "collapsed": true
   },
   "outputs": [],
   "source": []
  },
  {
   "cell_type": "code",
   "execution_count": null,
   "metadata": {
    "collapsed": true
   },
   "outputs": [],
   "source": []
  }
 ],
 "metadata": {
  "kernelspec": {
   "display_name": "Python 3",
   "language": "python",
   "name": "python3"
  },
  "language_info": {
   "codemirror_mode": {
    "name": "ipython",
    "version": 3
   },
   "file_extension": ".py",
   "mimetype": "text/x-python",
   "name": "python",
   "nbconvert_exporter": "python",
   "pygments_lexer": "ipython3",
   "version": "3.5.2"
  }
 },
 "nbformat": 4,
 "nbformat_minor": 2
}
